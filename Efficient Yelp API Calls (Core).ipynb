{
 "cells": [
  {
   "cell_type": "code",
   "execution_count": 1,
   "id": "f0dcc4a2",
   "metadata": {},
   "outputs": [],
   "source": [
    "# Standard Imports\n",
    "import numpy as np\n",
    "import pandas as pd\n",
    "import matplotlib.pyplot as plt\n",
    "import seaborn as sns\n",
    "\n",
    "# Additional Imports\n",
    "import os, json, math, time\n",
    "from yelpapi import YelpAPI\n",
    "from tqdm.notebook import tqdm_notebook"
   ]
  },
  {
   "cell_type": "markdown",
   "id": "ce3aab7e",
   "metadata": {},
   "source": [
    "# Getting YelpAPI Credentials "
   ]
  },
  {
   "cell_type": "code",
   "execution_count": 2,
   "id": "b7921338",
   "metadata": {},
   "outputs": [],
   "source": [
    "# Load API Credentials\n",
    "with open('C:/Users/grace/.secret/yelp_api.json','r') as f:\n",
    "    login = json.load(f)"
   ]
  },
  {
   "cell_type": "code",
   "execution_count": 3,
   "id": "7bf8ed53",
   "metadata": {},
   "outputs": [
    {
     "data": {
      "text/plain": [
       "dict_keys(['client-id', 'api-key'])"
      ]
     },
     "execution_count": 3,
     "metadata": {},
     "output_type": "execute_result"
    }
   ],
   "source": [
    "login.keys()"
   ]
  },
  {
   "cell_type": "code",
   "execution_count": 4,
   "id": "62178217",
   "metadata": {},
   "outputs": [],
   "source": [
    "yelp = YelpAPI(login['api-key'], timeout_s=5.0)"
   ]
  },
  {
   "cell_type": "markdown",
   "id": "6f25f779",
   "metadata": {},
   "source": [
    "# Define Search Terms and File Path"
   ]
  },
  {
   "cell_type": "code",
   "execution_count": 5,
   "id": "46c06e64",
   "metadata": {},
   "outputs": [],
   "source": [
    "location = 'Philadelphia, PA'\n",
    "term = 'sushi'\n",
    "## Specify folder for saving data\n",
    "folder = 'Data/'\n",
    "os.makedirs(folder, exist_ok=True)"
   ]
  },
  {
   "cell_type": "code",
   "execution_count": 6,
   "id": "ccc9021c",
   "metadata": {},
   "outputs": [
    {
     "data": {
      "text/plain": [
       "'Data/Philadelphia-sushi.json'"
      ]
     },
     "execution_count": 6,
     "metadata": {},
     "output_type": "execute_result"
    }
   ],
   "source": [
    "# Specifying JSON_FILE filename (can include a folder)\n",
    "JSON_FILE = folder+f\"{location.split(',')[0]}-{term}.json\"\n",
    "JSON_FILE"
   ]
  },
  {
   "cell_type": "markdown",
   "id": "84e694bd",
   "metadata": {},
   "source": [
    "# Check for JSON Existence and Create"
   ]
  },
  {
   "cell_type": "code",
   "execution_count": 7,
   "id": "e0149be7",
   "metadata": {},
   "outputs": [
    {
     "name": "stdout",
     "output_type": "stream",
     "text": [
      "[i] Data/Philadelphia-sushi.json not found. Saving empty list to file.\n"
     ]
    }
   ],
   "source": [
    "## Check if JSON_FILE exists\n",
    "file_exists = os.path.isfile(JSON_FILE)\n",
    "## If it does not exist: \n",
    "if file_exists ==False:\n",
    "    ## CREATE ANY NEEDED FOLDERS\n",
    "    # Get the Folder Name only\n",
    "    folder = os.path.dirname(JSON_FILE)\n",
    "    \n",
    "    ## If JSON_FILE included a folder:\n",
    "    if len(folder)>0:\n",
    "        # create the folder\n",
    "        os.makedirs(folder,exist_ok=True)\n",
    "        \n",
    "        \n",
    "    ## INFORM USER AND SAVE EMPTY LIST\n",
    "    print(f\"[i] {JSON_FILE} not found. Saving empty list to file.\")\n",
    "    \n",
    "    \n",
    "    ## save the first page of results\n",
    "    with open(JSON_FILE, 'w') as f:\n",
    "        json.dump([],f)\n",
    "        \n",
    "## If it exists, inform user\n",
    "else:\n",
    "    print(f\"[i] {JSON_FILE} already exists.\")"
   ]
  },
  {
   "cell_type": "markdown",
   "id": "b0d1a702",
   "metadata": {},
   "source": [
    "# Get First Page of Data"
   ]
  },
  {
   "cell_type": "code",
   "execution_count": 8,
   "id": "adc19987",
   "metadata": {},
   "outputs": [],
   "source": [
    "# use our yelp_api variable's search_query method to perform our API call\n",
    "results = yelp.search_query(location=location, term=term)"
   ]
  },
  {
   "cell_type": "code",
   "execution_count": 9,
   "id": "494e17c2",
   "metadata": {},
   "outputs": [
    {
     "data": {
      "text/plain": [
       "dict"
      ]
     },
     "execution_count": 9,
     "metadata": {},
     "output_type": "execute_result"
    }
   ],
   "source": [
    "type(results)"
   ]
  },
  {
   "cell_type": "code",
   "execution_count": 10,
   "id": "eb9f9f2b",
   "metadata": {},
   "outputs": [
    {
     "data": {
      "text/plain": [
       "dict_keys(['businesses', 'total', 'region'])"
      ]
     },
     "execution_count": 10,
     "metadata": {},
     "output_type": "execute_result"
    }
   ],
   "source": [
    "results.keys()"
   ]
  },
  {
   "cell_type": "code",
   "execution_count": 11,
   "id": "c0e80285",
   "metadata": {},
   "outputs": [
    {
     "data": {
      "text/plain": [
       "914"
      ]
     },
     "execution_count": 11,
     "metadata": {},
     "output_type": "execute_result"
    }
   ],
   "source": [
    "results['total']"
   ]
  },
  {
   "cell_type": "code",
   "execution_count": 13,
   "id": "f47cf7e0",
   "metadata": {},
   "outputs": [
    {
     "data": {
      "text/plain": [
       "20"
      ]
     },
     "execution_count": 13,
     "metadata": {},
     "output_type": "execute_result"
    }
   ],
   "source": [
    "## How many did we get the details for?\n",
    "results_per_page = len(results['businesses'])\n",
    "results_per_page"
   ]
  },
  {
   "cell_type": "code",
   "execution_count": 14,
   "id": "8339dace",
   "metadata": {},
   "outputs": [
    {
     "data": {
      "text/plain": [
       "46"
      ]
     },
     "execution_count": 14,
     "metadata": {},
     "output_type": "execute_result"
    }
   ],
   "source": [
    "# Use math.ceil to round up for the total number of pages of results.\n",
    "import time, math\n",
    "n_pages = math.ceil((results['total'])/results_per_page)\n",
    "n_pages"
   ]
  },
  {
   "cell_type": "markdown",
   "id": "c796e81e",
   "metadata": {},
   "source": [
    "# Load Data into File"
   ]
  },
  {
   "cell_type": "code",
   "execution_count": 15,
   "id": "1ed99631",
   "metadata": {},
   "outputs": [
    {
     "data": {
      "application/vnd.jupyter.widget-view+json": {
       "model_id": "f9d0cb1ef18549b0b5d6394280218455",
       "version_major": 2,
       "version_minor": 0
      },
      "text/plain": [
       "  0%|          | 0/46 [00:00<?, ?it/s]"
      ]
     },
     "metadata": {},
     "output_type": "display_data"
    }
   ],
   "source": [
    "for i in tqdm_notebook( range(1,n_pages+1)):\n",
    "    ## The block of code we want to TRY to run\n",
    "    try:\n",
    "        time.sleep(.2)\n",
    "        \n",
    "        ## Read in results in progress file and check the length\n",
    "        with open(JSON_FILE, 'r') as f:\n",
    "            previous_results = json.load(f)\n",
    "        \n",
    "        ## save number of results for to use as offset\n",
    "        n_results = len(previous_results)\n",
    "        \n",
    "        \n",
    "        ## use n_results as the OFFSET \n",
    "        results = yelp.search_query(location=location,\n",
    "                                   term=term,\n",
    "                                   offset = n_results+1)\n",
    "\n",
    "        ## append new results and save to file (dont use append)\n",
    "        previous_results.extend(results['businesses'])\n",
    "        \n",
    "        with open(JSON_FILE, 'w') as f:\n",
    "            json.dump(previous_results,f)\n",
    "\n",
    "            \n",
    "    ## What to do if we get an error/exception.\n",
    "    except Exception as e:\n",
    "        print('[!] ERROR:',e)"
   ]
  },
  {
   "cell_type": "code",
   "execution_count": 16,
   "id": "e734621a",
   "metadata": {},
   "outputs": [
    {
     "name": "stdout",
     "output_type": "stream",
     "text": [
      "<class 'pandas.core.frame.DataFrame'>\n",
      "RangeIndex: 913 entries, 0 to 912\n",
      "Data columns (total 16 columns):\n",
      " #   Column         Non-Null Count  Dtype  \n",
      "---  ------         --------------  -----  \n",
      " 0   id             913 non-null    object \n",
      " 1   alias          913 non-null    object \n",
      " 2   name           913 non-null    object \n",
      " 3   image_url      913 non-null    object \n",
      " 4   is_closed      913 non-null    bool   \n",
      " 5   url            913 non-null    object \n",
      " 6   review_count   913 non-null    int64  \n",
      " 7   categories     913 non-null    object \n",
      " 8   rating         913 non-null    float64\n",
      " 9   coordinates    913 non-null    object \n",
      " 10  transactions   913 non-null    object \n",
      " 11  location       913 non-null    object \n",
      " 12  phone          913 non-null    object \n",
      " 13  display_phone  913 non-null    object \n",
      " 14  distance       913 non-null    float64\n",
      " 15  price          753 non-null    object \n",
      "dtypes: bool(1), float64(2), int64(1), object(12)\n",
      "memory usage: 108.0+ KB\n"
     ]
    },
    {
     "data": {
      "text/html": [
       "<div>\n",
       "<style scoped>\n",
       "    .dataframe tbody tr th:only-of-type {\n",
       "        vertical-align: middle;\n",
       "    }\n",
       "\n",
       "    .dataframe tbody tr th {\n",
       "        vertical-align: top;\n",
       "    }\n",
       "\n",
       "    .dataframe thead th {\n",
       "        text-align: right;\n",
       "    }\n",
       "</style>\n",
       "<table border=\"1\" class=\"dataframe\">\n",
       "  <thead>\n",
       "    <tr style=\"text-align: right;\">\n",
       "      <th></th>\n",
       "      <th>id</th>\n",
       "      <th>alias</th>\n",
       "      <th>name</th>\n",
       "      <th>image_url</th>\n",
       "      <th>is_closed</th>\n",
       "      <th>url</th>\n",
       "      <th>review_count</th>\n",
       "      <th>categories</th>\n",
       "      <th>rating</th>\n",
       "      <th>coordinates</th>\n",
       "      <th>transactions</th>\n",
       "      <th>location</th>\n",
       "      <th>phone</th>\n",
       "      <th>display_phone</th>\n",
       "      <th>distance</th>\n",
       "      <th>price</th>\n",
       "    </tr>\n",
       "  </thead>\n",
       "  <tbody>\n",
       "    <tr>\n",
       "      <th>0</th>\n",
       "      <td>paNYNJ-VFDgwLY201IrXCQ</td>\n",
       "      <td>sakana-omakasè-sushi-philadelphia-3</td>\n",
       "      <td>Sakana Omakasè Sushi</td>\n",
       "      <td>https://s3-media4.fl.yelpcdn.com/bphoto/4cFnCN...</td>\n",
       "      <td>False</td>\n",
       "      <td>https://www.yelp.com/biz/sakana-omakas%C3%A8-s...</td>\n",
       "      <td>176</td>\n",
       "      <td>[{'alias': 'japanese', 'title': 'Japanese'}, {...</td>\n",
       "      <td>4.5</td>\n",
       "      <td>{'latitude': 39.94069400766489, 'longitude': -...</td>\n",
       "      <td>[delivery, pickup]</td>\n",
       "      <td>{'address1': '616 S 2nd St', 'address2': 'Fl 1...</td>\n",
       "      <td>+12159222149</td>\n",
       "      <td>(215) 922-2149</td>\n",
       "      <td>2598.514407</td>\n",
       "      <td>NaN</td>\n",
       "    </tr>\n",
       "    <tr>\n",
       "      <th>1</th>\n",
       "      <td>IS3h8_4gL_IbmpVTKDB3LA</td>\n",
       "      <td>royal-sushi-and-izakaya-philadelphia</td>\n",
       "      <td>Royal Sushi &amp; Izakaya</td>\n",
       "      <td>https://s3-media2.fl.yelpcdn.com/bphoto/u0eDwE...</td>\n",
       "      <td>False</td>\n",
       "      <td>https://www.yelp.com/biz/royal-sushi-and-izaka...</td>\n",
       "      <td>323</td>\n",
       "      <td>[{'alias': 'izakaya', 'title': 'Izakaya'}, {'a...</td>\n",
       "      <td>4.5</td>\n",
       "      <td>{'latitude': 39.93802, 'longitude': -75.14662}</td>\n",
       "      <td>[delivery]</td>\n",
       "      <td>{'address1': '780-782 S 2nd St', 'address2': '...</td>\n",
       "      <td>+12679099002</td>\n",
       "      <td>(267) 909-9002</td>\n",
       "      <td>2733.038345</td>\n",
       "      <td>$$</td>\n",
       "    </tr>\n",
       "    <tr>\n",
       "      <th>2</th>\n",
       "      <td>h7TO_IsmLCYmKKDVOOIeFw</td>\n",
       "      <td>fat-salmon-philadelphia</td>\n",
       "      <td>Fat Salmon</td>\n",
       "      <td>https://s3-media2.fl.yelpcdn.com/bphoto/BVbaDQ...</td>\n",
       "      <td>False</td>\n",
       "      <td>https://www.yelp.com/biz/fat-salmon-philadelph...</td>\n",
       "      <td>1164</td>\n",
       "      <td>[{'alias': 'japanese', 'title': 'Japanese'}, {...</td>\n",
       "      <td>4.5</td>\n",
       "      <td>{'latitude': 39.9481899, 'longitude': -75.15338}</td>\n",
       "      <td>[delivery, restaurant_reservation, pickup]</td>\n",
       "      <td>{'address1': '719 Walnut St', 'address2': '', ...</td>\n",
       "      <td>+12159288881</td>\n",
       "      <td>(215) 928-8881</td>\n",
       "      <td>1642.910147</td>\n",
       "      <td>$$</td>\n",
       "    </tr>\n",
       "    <tr>\n",
       "      <th>3</th>\n",
       "      <td>FqOCC8Y9xryaX7sIBJcrxA</td>\n",
       "      <td>vic-sushi-bar-philadelphia</td>\n",
       "      <td>Vic Sushi Bar</td>\n",
       "      <td>https://s3-media2.fl.yelpcdn.com/bphoto/NDsR2y...</td>\n",
       "      <td>False</td>\n",
       "      <td>https://www.yelp.com/biz/vic-sushi-bar-philade...</td>\n",
       "      <td>908</td>\n",
       "      <td>[{'alias': 'sushi', 'title': 'Sushi Bars'}, {'...</td>\n",
       "      <td>4.0</td>\n",
       "      <td>{'latitude': 39.9515123, 'longitude': -75.1743...</td>\n",
       "      <td>[delivery]</td>\n",
       "      <td>{'address1': '2035 Sansom St', 'address2': '',...</td>\n",
       "      <td>+12155644339</td>\n",
       "      <td>(215) 564-4339</td>\n",
       "      <td>394.796535</td>\n",
       "      <td>$$</td>\n",
       "    </tr>\n",
       "    <tr>\n",
       "      <th>4</th>\n",
       "      <td>i76ERS3jM111T3VMbi2yrQ</td>\n",
       "      <td>sagami-collingswood</td>\n",
       "      <td>Sagami</td>\n",
       "      <td>https://s3-media2.fl.yelpcdn.com/bphoto/ju4DpU...</td>\n",
       "      <td>False</td>\n",
       "      <td>https://www.yelp.com/biz/sagami-collingswood?a...</td>\n",
       "      <td>628</td>\n",
       "      <td>[{'alias': 'japanese', 'title': 'Japanese'}, {...</td>\n",
       "      <td>4.5</td>\n",
       "      <td>{'latitude': 39.92116, 'longitude': -75.08756}</td>\n",
       "      <td>[delivery]</td>\n",
       "      <td>{'address1': '37 W Crescent Blvd', 'address2':...</td>\n",
       "      <td>+18568549773</td>\n",
       "      <td>(856) 854-9773</td>\n",
       "      <td>7995.747985</td>\n",
       "      <td>$$</td>\n",
       "    </tr>\n",
       "  </tbody>\n",
       "</table>\n",
       "</div>"
      ],
      "text/plain": [
       "                       id                                 alias  \\\n",
       "0  paNYNJ-VFDgwLY201IrXCQ   sakana-omakasè-sushi-philadelphia-3   \n",
       "1  IS3h8_4gL_IbmpVTKDB3LA  royal-sushi-and-izakaya-philadelphia   \n",
       "2  h7TO_IsmLCYmKKDVOOIeFw               fat-salmon-philadelphia   \n",
       "3  FqOCC8Y9xryaX7sIBJcrxA            vic-sushi-bar-philadelphia   \n",
       "4  i76ERS3jM111T3VMbi2yrQ                   sagami-collingswood   \n",
       "\n",
       "                    name                                          image_url  \\\n",
       "0   Sakana Omakasè Sushi  https://s3-media4.fl.yelpcdn.com/bphoto/4cFnCN...   \n",
       "1  Royal Sushi & Izakaya  https://s3-media2.fl.yelpcdn.com/bphoto/u0eDwE...   \n",
       "2             Fat Salmon  https://s3-media2.fl.yelpcdn.com/bphoto/BVbaDQ...   \n",
       "3          Vic Sushi Bar  https://s3-media2.fl.yelpcdn.com/bphoto/NDsR2y...   \n",
       "4                 Sagami  https://s3-media2.fl.yelpcdn.com/bphoto/ju4DpU...   \n",
       "\n",
       "   is_closed                                                url  review_count  \\\n",
       "0      False  https://www.yelp.com/biz/sakana-omakas%C3%A8-s...           176   \n",
       "1      False  https://www.yelp.com/biz/royal-sushi-and-izaka...           323   \n",
       "2      False  https://www.yelp.com/biz/fat-salmon-philadelph...          1164   \n",
       "3      False  https://www.yelp.com/biz/vic-sushi-bar-philade...           908   \n",
       "4      False  https://www.yelp.com/biz/sagami-collingswood?a...           628   \n",
       "\n",
       "                                          categories  rating  \\\n",
       "0  [{'alias': 'japanese', 'title': 'Japanese'}, {...     4.5   \n",
       "1  [{'alias': 'izakaya', 'title': 'Izakaya'}, {'a...     4.5   \n",
       "2  [{'alias': 'japanese', 'title': 'Japanese'}, {...     4.5   \n",
       "3  [{'alias': 'sushi', 'title': 'Sushi Bars'}, {'...     4.0   \n",
       "4  [{'alias': 'japanese', 'title': 'Japanese'}, {...     4.5   \n",
       "\n",
       "                                         coordinates  \\\n",
       "0  {'latitude': 39.94069400766489, 'longitude': -...   \n",
       "1     {'latitude': 39.93802, 'longitude': -75.14662}   \n",
       "2   {'latitude': 39.9481899, 'longitude': -75.15338}   \n",
       "3  {'latitude': 39.9515123, 'longitude': -75.1743...   \n",
       "4     {'latitude': 39.92116, 'longitude': -75.08756}   \n",
       "\n",
       "                                 transactions  \\\n",
       "0                          [delivery, pickup]   \n",
       "1                                  [delivery]   \n",
       "2  [delivery, restaurant_reservation, pickup]   \n",
       "3                                  [delivery]   \n",
       "4                                  [delivery]   \n",
       "\n",
       "                                            location         phone  \\\n",
       "0  {'address1': '616 S 2nd St', 'address2': 'Fl 1...  +12159222149   \n",
       "1  {'address1': '780-782 S 2nd St', 'address2': '...  +12679099002   \n",
       "2  {'address1': '719 Walnut St', 'address2': '', ...  +12159288881   \n",
       "3  {'address1': '2035 Sansom St', 'address2': '',...  +12155644339   \n",
       "4  {'address1': '37 W Crescent Blvd', 'address2':...  +18568549773   \n",
       "\n",
       "    display_phone     distance price  \n",
       "0  (215) 922-2149  2598.514407   NaN  \n",
       "1  (267) 909-9002  2733.038345    $$  \n",
       "2  (215) 928-8881  1642.910147    $$  \n",
       "3  (215) 564-4339   394.796535    $$  \n",
       "4  (856) 854-9773  7995.747985    $$  "
      ]
     },
     "execution_count": 16,
     "metadata": {},
     "output_type": "execute_result"
    }
   ],
   "source": [
    "df = pd.read_json(JSON_FILE)\n",
    "df.info()\n",
    "df.head()"
   ]
  },
  {
   "cell_type": "code",
   "execution_count": 17,
   "id": "3cf2c0e6",
   "metadata": {},
   "outputs": [
    {
     "data": {
      "text/plain": [
       "'Data/Philadelphia-sushi.csv.gz'"
      ]
     },
     "execution_count": 17,
     "metadata": {},
     "output_type": "execute_result"
    }
   ],
   "source": [
    "## convert the filename to a .csv.gz\n",
    "csv_file = JSON_FILE.replace('.json','.csv.gz')\n",
    "csv_file"
   ]
  },
  {
   "cell_type": "code",
   "execution_count": 18,
   "id": "716c6dbd",
   "metadata": {},
   "outputs": [],
   "source": [
    "## Save it as a compressed csv (to save space)\n",
    "df.to_csv(csv_file, compression='gzip',index=False)"
   ]
  }
 ],
 "metadata": {
  "kernelspec": {
   "display_name": "Python (dojo-env)",
   "language": "python",
   "name": "dojo-env"
  },
  "language_info": {
   "codemirror_mode": {
    "name": "ipython",
    "version": 3
   },
   "file_extension": ".py",
   "mimetype": "text/x-python",
   "name": "python",
   "nbconvert_exporter": "python",
   "pygments_lexer": "ipython3",
   "version": "3.9.15"
  },
  "toc": {
   "base_numbering": 1,
   "nav_menu": {},
   "number_sections": false,
   "sideBar": true,
   "skip_h1_title": false,
   "title_cell": "Table of Contents",
   "title_sidebar": "Contents",
   "toc_cell": false,
   "toc_position": {},
   "toc_section_display": true,
   "toc_window_display": false
  }
 },
 "nbformat": 4,
 "nbformat_minor": 5
}
